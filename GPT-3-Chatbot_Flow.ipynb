{
 "cells": [
  {
   "cell_type": "markdown",
   "id": "a8399179",
   "metadata": {},
   "source": [
    "## GPT-3 Chatbot Flow"
   ]
  },
  {
   "cell_type": "markdown",
   "id": "36830400",
   "metadata": {},
   "source": [
    "#### This notebook is about how can we interact with a Chatbot in GPT-3 API and how are we going to store the previous responses so that the Chatbot can have a better understanding of our previous responses."
   ]
  },
  {
   "cell_type": "code",
   "execution_count": 1,
   "id": "dee6e477",
   "metadata": {},
   "outputs": [],
   "source": [
    "#Conversation context\n",
    "conversation_context = \"User: Hi, how are you? Chatbot: I'm good, thank you. How can I help you today?\""
   ]
  },
  {
   "cell_type": "code",
   "execution_count": 14,
   "id": "0d0b9ef4",
   "metadata": {},
   "outputs": [],
   "source": [
    "import requests\n",
    "import json\n",
    "\n",
    "# API endpoint for GPT-3\n",
    "api_endpoint = \"https://api.openai.com/v1/completions\"\n",
    "\n",
    "# API key for authentication\n",
    "api_key = \"GPT-3 API\"\n",
    "\n",
    "\n",
    "# user input\n",
    "user_input = \"How many questions I have asked so far?\"\n",
    "\n",
    "# Update the prompt with the user input and conversation context\n",
    "prompt = f\"{conversation_context} User: {user_input} Chatbot: \"\n",
    "\n",
    "\n",
    "# Function in which we will feed the updated prompt based on the updated conversation.\n",
    "def generate_response(prompt):\n",
    "    headers = {\n",
    "        \"Content-Type\": \"application/json\",\n",
    "        \"Authorization\": f\"Bearer {api_key}\"\n",
    "    }\n",
    "    data = {\n",
    "        \"prompt\": prompt,\n",
    "       \n",
    "        \"model\": \"text-davinci-003\",\n",
    "  \"temperature\": 0.9,\n",
    "  \"max_tokens\": 150,\n",
    "  \"top_p\": 1,\n",
    "  \"frequency_penalty\": 0,\n",
    "  \"presence_penalty\": 0.6,\n",
    "  \"stop\": [\" User:\", \" Chatbot:\"]\n",
    "    }\n",
    "    response = requests.post(api_endpoint, headers=headers, json=data)\n",
    "    return response.json()\n",
    "\n",
    "\n",
    "\n",
    "# Generate a response from GPT-3\n",
    "response = generate_response(prompt)\n",
    "\n",
    "output= response['choices'][0]['text']\n",
    "\n",
    "conversation_context += f\"User:{user_input} Chatbot: {output}\"\n"
   ]
  },
  {
   "cell_type": "code",
   "execution_count": 15,
   "id": "4e5cffaf",
   "metadata": {},
   "outputs": [
    {
     "name": "stdout",
     "output_type": "stream",
     "text": [
      "\n",
      "\n",
      "You have asked three questions so far.\n"
     ]
    }
   ],
   "source": [
    "output= response['choices'][0]['text']\n",
    "print(output)"
   ]
  },
  {
   "cell_type": "code",
   "execution_count": 16,
   "id": "81e1b501",
   "metadata": {},
   "outputs": [
    {
     "data": {
      "text/plain": [
       "\"User: Hi, how are you? Chatbot: I'm good, thank you. How can I help you today?User:What is the capital of Pakistan? Chatbot: \\n\\nThe capital of Pakistan is Islamabad.User:What is the capital of India? Chatbot: \\n\\nThe capital of India is New Delhi.User:How many questions I have asked so far? Chatbot: \\n\\nYou have asked two questions so far.User:How many questions I have asked so far? Chatbot: \\n\\nYou have asked three questions so far.\""
      ]
     },
     "execution_count": 16,
     "metadata": {},
     "output_type": "execute_result"
    }
   ],
   "source": [
    "# To check whether our conversation context has updated.\n",
    "conversation_context"
   ]
  },
  {
   "cell_type": "markdown",
   "id": "ebdf462d",
   "metadata": {},
   "source": [
    "## How its working?"
   ]
  },
  {
   "cell_type": "code",
   "execution_count": 4,
   "id": "0670610e",
   "metadata": {},
   "outputs": [],
   "source": [
    "#Example\n",
    "empty=[]\n",
    "\n",
    "empty += '1'"
   ]
  },
  {
   "cell_type": "code",
   "execution_count": 5,
   "id": "e0d2efa5",
   "metadata": {},
   "outputs": [
    {
     "name": "stdout",
     "output_type": "stream",
     "text": [
      "['1']\n"
     ]
    }
   ],
   "source": [
    "print(empty)"
   ]
  },
  {
   "cell_type": "code",
   "execution_count": 6,
   "id": "4db8509c",
   "metadata": {},
   "outputs": [],
   "source": [
    "empty += '2'"
   ]
  },
  {
   "cell_type": "code",
   "execution_count": 7,
   "id": "84757604",
   "metadata": {},
   "outputs": [
    {
     "name": "stdout",
     "output_type": "stream",
     "text": [
      "['1', '2']\n"
     ]
    }
   ],
   "source": [
    "print(empty)"
   ]
  },
  {
   "cell_type": "code",
   "execution_count": null,
   "id": "4b40208e",
   "metadata": {},
   "outputs": [],
   "source": []
  }
 ],
 "metadata": {
  "kernelspec": {
   "display_name": "Python 3 (ipykernel)",
   "language": "python",
   "name": "python3"
  },
  "language_info": {
   "codemirror_mode": {
    "name": "ipython",
    "version": 3
   },
   "file_extension": ".py",
   "mimetype": "text/x-python",
   "name": "python",
   "nbconvert_exporter": "python",
   "pygments_lexer": "ipython3",
   "version": "3.9.7"
  }
 },
 "nbformat": 4,
 "nbformat_minor": 5
}
